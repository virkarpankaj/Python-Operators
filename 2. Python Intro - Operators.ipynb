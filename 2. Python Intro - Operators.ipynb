{
 "cells": [
  {
   "cell_type": "markdown",
   "id": "ea259bbd",
   "metadata": {
    "heading_collapsed": true
   },
   "source": [
    "## Arithmetic Operators"
   ]
  },
  {
   "cell_type": "code",
   "execution_count": 1,
   "id": "3ce34fad",
   "metadata": {
    "hidden": true
   },
   "outputs": [],
   "source": [
    "# addition        +\n",
    "# Subtraction     -\n",
    "# Multiplication  * \n",
    "# true Division   /\n",
    "# Floor Division  //\n",
    "# Mod (remainder) %\n",
    "# power - **\n"
   ]
  },
  {
   "cell_type": "code",
   "execution_count": 2,
   "id": "b2ddfb22",
   "metadata": {
    "hidden": true
   },
   "outputs": [
    {
     "name": "stdout",
     "output_type": "stream",
     "text": [
      "520\n",
      "480\n",
      "10000\n",
      "25.0\n",
      "25\n",
      "0\n",
      "16\n"
     ]
    }
   ],
   "source": [
    "print(500 + 20)\n",
    "print(500 - 20)\n",
    "print(500 * 20)\n",
    "print(500 / 20)\n",
    "print(500 // 20)\n",
    "print(500 % 20)\n",
    "print(2**4)"
   ]
  },
  {
   "cell_type": "code",
   "execution_count": null,
   "id": "cf526595",
   "metadata": {
    "hidden": true
   },
   "outputs": [],
   "source": []
  },
  {
   "cell_type": "markdown",
   "id": "21b436aa",
   "metadata": {
    "heading_collapsed": true
   },
   "source": [
    "## Comparison / Relational  Operators"
   ]
  },
  {
   "cell_type": "code",
   "execution_count": 3,
   "id": "babd2056",
   "metadata": {
    "hidden": true
   },
   "outputs": [],
   "source": [
    "# equals to  ==\n",
    "# less than <\n",
    "# less than or equals to <=\n",
    "# greater than >\n",
    "# greater than or equals to <=\n",
    "# not equals to !=\n",
    "\n",
    "# ans in True or False"
   ]
  },
  {
   "cell_type": "code",
   "execution_count": 4,
   "id": "6a0a21a5",
   "metadata": {
    "hidden": true
   },
   "outputs": [
    {
     "name": "stdout",
     "output_type": "stream",
     "text": [
      "True\n",
      "False\n",
      "True\n",
      "True\n",
      "False\n",
      "True\n"
     ]
    }
   ],
   "source": [
    "print(1 == 1)\n",
    "print(1 == 2)\n",
    "print(5 < 8)\n",
    "print(11 > 2)\n",
    "print(11 >= 111)\n",
    "print(1 != 2)"
   ]
  },
  {
   "cell_type": "code",
   "execution_count": null,
   "id": "c4f84e9c",
   "metadata": {
    "hidden": true
   },
   "outputs": [],
   "source": []
  },
  {
   "cell_type": "markdown",
   "id": "9d61126f",
   "metadata": {
    "heading_collapsed": true
   },
   "source": [
    "## Logical Operators"
   ]
  },
  {
   "cell_type": "code",
   "execution_count": 5,
   "id": "8c2dd41a",
   "metadata": {
    "hidden": true
   },
   "outputs": [],
   "source": [
    "# And  - all should be True\n",
    "# Or   - at least one should be True\n",
    "# Not  - opposite / complement"
   ]
  },
  {
   "cell_type": "code",
   "execution_count": 6,
   "id": "d10ffe43",
   "metadata": {
    "hidden": true
   },
   "outputs": [
    {
     "name": "stdout",
     "output_type": "stream",
     "text": [
      "False\n",
      "True\n"
     ]
    }
   ],
   "source": [
    "a = True\n",
    "b = False\n",
    "\n",
    "print(a and b)\n",
    "print(a or b)"
   ]
  },
  {
   "cell_type": "code",
   "execution_count": 7,
   "id": "b745e8b3",
   "metadata": {
    "hidden": true
   },
   "outputs": [
    {
     "name": "stdout",
     "output_type": "stream",
     "text": [
      "True\n"
     ]
    }
   ],
   "source": [
    "print(1 == 1 and 2 == 2)"
   ]
  },
  {
   "cell_type": "code",
   "execution_count": 8,
   "id": "3c3cb0e3",
   "metadata": {
    "hidden": true
   },
   "outputs": [
    {
     "data": {
      "text/plain": [
       "False"
      ]
     },
     "execution_count": 8,
     "metadata": {},
     "output_type": "execute_result"
    }
   ],
   "source": [
    "1 == 1 and 1 == 2"
   ]
  },
  {
   "cell_type": "code",
   "execution_count": null,
   "id": "8ef3bf0f",
   "metadata": {
    "hidden": true
   },
   "outputs": [],
   "source": []
  },
  {
   "cell_type": "markdown",
   "id": "57b1fa1e",
   "metadata": {
    "heading_collapsed": true
   },
   "source": [
    "## Assignment Operators"
   ]
  },
  {
   "cell_type": "code",
   "execution_count": 9,
   "id": "61a8585e",
   "metadata": {
    "hidden": true
   },
   "outputs": [],
   "source": [
    "# assigns right to left by same object\n",
    "# add and        +=\n",
    "# Subtract and   -=\n",
    "# Multiplication  *=\n",
    "# true Division   /=\n",
    "# Floor Division  //=\n",
    "# Mod (remainder) %=\n",
    "# power - **="
   ]
  },
  {
   "cell_type": "code",
   "execution_count": 10,
   "id": "678ec857",
   "metadata": {
    "hidden": true
   },
   "outputs": [],
   "source": [
    "a = 10\n",
    "b = 20"
   ]
  },
  {
   "cell_type": "code",
   "execution_count": 11,
   "id": "6914212b",
   "metadata": {
    "hidden": true
   },
   "outputs": [],
   "source": [
    "a += 10\n",
    "# a = a+10"
   ]
  },
  {
   "cell_type": "code",
   "execution_count": 12,
   "id": "ac803a62",
   "metadata": {
    "hidden": true
   },
   "outputs": [
    {
     "data": {
      "text/plain": [
       "20"
      ]
     },
     "execution_count": 12,
     "metadata": {},
     "output_type": "execute_result"
    }
   ],
   "source": [
    "a"
   ]
  },
  {
   "cell_type": "code",
   "execution_count": 13,
   "id": "49090ff9",
   "metadata": {
    "hidden": true
   },
   "outputs": [],
   "source": [
    "a -= 10\n",
    "# a = a-10 (a is updated above)"
   ]
  },
  {
   "cell_type": "code",
   "execution_count": 14,
   "id": "519bdac9",
   "metadata": {
    "hidden": true
   },
   "outputs": [
    {
     "data": {
      "text/plain": [
       "10"
      ]
     },
     "execution_count": 14,
     "metadata": {},
     "output_type": "execute_result"
    }
   ],
   "source": [
    "a"
   ]
  },
  {
   "cell_type": "code",
   "execution_count": 15,
   "id": "3a1957ad",
   "metadata": {
    "hidden": true
   },
   "outputs": [
    {
     "data": {
      "text/plain": [
       "50"
      ]
     },
     "execution_count": 15,
     "metadata": {},
     "output_type": "execute_result"
    }
   ],
   "source": [
    "a *= 5\n",
    "# a=a*5\n",
    "a"
   ]
  },
  {
   "cell_type": "code",
   "execution_count": 16,
   "id": "8f55c7d0",
   "metadata": {
    "hidden": true
   },
   "outputs": [
    {
     "data": {
      "text/plain": [
       "10.0"
      ]
     },
     "execution_count": 16,
     "metadata": {},
     "output_type": "execute_result"
    }
   ],
   "source": [
    "a /= 5\n",
    "#a=a/5\n",
    "a"
   ]
  },
  {
   "cell_type": "code",
   "execution_count": 17,
   "id": "fd6977ee",
   "metadata": {
    "hidden": true
   },
   "outputs": [
    {
     "data": {
      "text/plain": [
       "4"
      ]
     },
     "execution_count": 17,
     "metadata": {},
     "output_type": "execute_result"
    }
   ],
   "source": [
    "b //= 5\n",
    "#b=b//5\n",
    "b"
   ]
  },
  {
   "cell_type": "code",
   "execution_count": 18,
   "id": "59756088",
   "metadata": {
    "hidden": true
   },
   "outputs": [
    {
     "data": {
      "text/plain": [
       "1"
      ]
     },
     "execution_count": 18,
     "metadata": {},
     "output_type": "execute_result"
    }
   ],
   "source": [
    "c = 27\n",
    "c %= 2\n",
    "#c=c%2\n",
    "c"
   ]
  },
  {
   "cell_type": "code",
   "execution_count": 19,
   "id": "f4b3cc78",
   "metadata": {
    "hidden": true
   },
   "outputs": [
    {
     "data": {
      "text/plain": [
       "64"
      ]
     },
     "execution_count": 19,
     "metadata": {},
     "output_type": "execute_result"
    }
   ],
   "source": [
    "b **= 3\n",
    "#b=b**5\n",
    "b"
   ]
  },
  {
   "cell_type": "code",
   "execution_count": null,
   "id": "c141c137",
   "metadata": {
    "hidden": true
   },
   "outputs": [],
   "source": []
  },
  {
   "cell_type": "markdown",
   "id": "3fbe21cc",
   "metadata": {},
   "source": [
    "## Special Operator"
   ]
  },
  {
   "cell_type": "markdown",
   "id": "ed54d0af",
   "metadata": {
    "heading_collapsed": true
   },
   "source": [
    "### Membership operator"
   ]
  },
  {
   "cell_type": "code",
   "execution_count": 20,
   "id": "385e3dbc",
   "metadata": {
    "hidden": true
   },
   "outputs": [
    {
     "data": {
      "text/plain": [
       "True"
      ]
     },
     "execution_count": 20,
     "metadata": {},
     "output_type": "execute_result"
    }
   ],
   "source": [
    "# in & not in\n",
    "\n",
    "lst=[1,2,3,4]\n",
    "\n",
    "4 in lst"
   ]
  },
  {
   "cell_type": "code",
   "execution_count": 21,
   "id": "d03cc935",
   "metadata": {
    "hidden": true
   },
   "outputs": [
    {
     "data": {
      "text/plain": [
       "False"
      ]
     },
     "execution_count": 21,
     "metadata": {},
     "output_type": "execute_result"
    }
   ],
   "source": [
    "7 in lst"
   ]
  },
  {
   "cell_type": "code",
   "execution_count": 22,
   "id": "7b5589f5",
   "metadata": {
    "hidden": true
   },
   "outputs": [
    {
     "data": {
      "text/plain": [
       "True"
      ]
     },
     "execution_count": 22,
     "metadata": {},
     "output_type": "execute_result"
    }
   ],
   "source": [
    "8 not in lst"
   ]
  },
  {
   "cell_type": "markdown",
   "id": "02e38de8",
   "metadata": {
    "heading_collapsed": true
   },
   "source": [
    "###  Identity Operator"
   ]
  },
  {
   "cell_type": "code",
   "execution_count": 23,
   "id": "03688191",
   "metadata": {
    "hidden": true
   },
   "outputs": [
    {
     "name": "stderr",
     "output_type": "stream",
     "text": [
      "<>:4: SyntaxWarning: \"is\" with a literal. Did you mean \"==\"?\n",
      "<>:4: SyntaxWarning: \"is\" with a literal. Did you mean \"==\"?\n",
      "<ipython-input-23-708efb8dbe47>:4: SyntaxWarning: \"is\" with a literal. Did you mean \"==\"?\n",
      "  4 is 4\n"
     ]
    },
    {
     "data": {
      "text/plain": [
       "True"
      ]
     },
     "execution_count": 23,
     "metadata": {},
     "output_type": "execute_result"
    }
   ],
   "source": [
    "# is & is not  ( equal or not equal)\n",
    "\n",
    "4 is 4"
   ]
  },
  {
   "cell_type": "code",
   "execution_count": 24,
   "id": "13bb8934",
   "metadata": {
    "hidden": true
   },
   "outputs": [
    {
     "name": "stderr",
     "output_type": "stream",
     "text": [
      "<>:1: SyntaxWarning: \"is\" with a literal. Did you mean \"==\"?\n",
      "<>:1: SyntaxWarning: \"is\" with a literal. Did you mean \"==\"?\n",
      "<ipython-input-24-4f962a1dbc3b>:1: SyntaxWarning: \"is\" with a literal. Did you mean \"==\"?\n",
      "  '\"' is \"''\"\n"
     ]
    },
    {
     "data": {
      "text/plain": [
       "False"
      ]
     },
     "execution_count": 24,
     "metadata": {},
     "output_type": "execute_result"
    }
   ],
   "source": [
    "'\"' is \"''\""
   ]
  },
  {
   "cell_type": "code",
   "execution_count": 25,
   "id": "01f6a96c",
   "metadata": {
    "hidden": true
   },
   "outputs": [
    {
     "name": "stderr",
     "output_type": "stream",
     "text": [
      "<>:1: SyntaxWarning: \"is not\" with a literal. Did you mean \"!=\"?\n",
      "<>:1: SyntaxWarning: \"is not\" with a literal. Did you mean \"!=\"?\n",
      "<ipython-input-25-ad3449219e1d>:1: SyntaxWarning: \"is not\" with a literal. Did you mean \"!=\"?\n",
      "  '\"' is not \"''\"\n"
     ]
    },
    {
     "data": {
      "text/plain": [
       "True"
      ]
     },
     "execution_count": 25,
     "metadata": {},
     "output_type": "execute_result"
    }
   ],
   "source": [
    "'\"' is not \"''\""
   ]
  },
  {
   "cell_type": "code",
   "execution_count": null,
   "id": "b956e847",
   "metadata": {
    "hidden": true
   },
   "outputs": [],
   "source": []
  },
  {
   "cell_type": "markdown",
   "id": "f2c06125",
   "metadata": {},
   "source": [
    "## Operator Lib"
   ]
  },
  {
   "cell_type": "code",
   "execution_count": 26,
   "id": "513e35bf",
   "metadata": {},
   "outputs": [],
   "source": [
    "import operator"
   ]
  },
  {
   "cell_type": "code",
   "execution_count": 27,
   "id": "5152287a",
   "metadata": {},
   "outputs": [
    {
     "data": {
      "text/plain": [
       "40"
      ]
     },
     "execution_count": 27,
     "metadata": {},
     "output_type": "execute_result"
    }
   ],
   "source": [
    "a=15;b=25\n",
    "operator.add(a,b)  "
   ]
  },
  {
   "cell_type": "code",
   "execution_count": 28,
   "id": "fc015c32",
   "metadata": {},
   "outputs": [
    {
     "data": {
      "text/plain": [
       "-10"
      ]
     },
     "execution_count": 28,
     "metadata": {},
     "output_type": "execute_result"
    }
   ],
   "source": [
    "operator.sub(a,b)"
   ]
  },
  {
   "cell_type": "code",
   "execution_count": 29,
   "id": "ca10f558",
   "metadata": {},
   "outputs": [
    {
     "data": {
      "text/plain": [
       "3.0"
      ]
     },
     "execution_count": 29,
     "metadata": {},
     "output_type": "execute_result"
    }
   ],
   "source": [
    "operator.truediv(a,5)"
   ]
  },
  {
   "cell_type": "code",
   "execution_count": 30,
   "id": "355fde55",
   "metadata": {},
   "outputs": [
    {
     "data": {
      "text/plain": [
       "0"
      ]
     },
     "execution_count": 30,
     "metadata": {},
     "output_type": "execute_result"
    }
   ],
   "source": [
    "operator.floordiv(a,b)"
   ]
  },
  {
   "cell_type": "code",
   "execution_count": 31,
   "id": "c05116c3",
   "metadata": {},
   "outputs": [
    {
     "data": {
      "text/plain": [
       "3"
      ]
     },
     "execution_count": 31,
     "metadata": {},
     "output_type": "execute_result"
    }
   ],
   "source": [
    "operator.floordiv(a,5)"
   ]
  },
  {
   "cell_type": "code",
   "execution_count": 32,
   "id": "56828731",
   "metadata": {},
   "outputs": [
    {
     "data": {
      "text/plain": [
       "3"
      ]
     },
     "execution_count": 32,
     "metadata": {},
     "output_type": "execute_result"
    }
   ],
   "source": [
    "operator.mod(a,4)"
   ]
  },
  {
   "cell_type": "code",
   "execution_count": 33,
   "id": "24b6e60b",
   "metadata": {},
   "outputs": [
    {
     "data": {
      "text/plain": [
       "375"
      ]
     },
     "execution_count": 33,
     "metadata": {},
     "output_type": "execute_result"
    }
   ],
   "source": [
    "operator.mul(a,b)"
   ]
  },
  {
   "cell_type": "code",
   "execution_count": 34,
   "id": "6e8d6522",
   "metadata": {},
   "outputs": [
    {
     "data": {
      "text/plain": [
       "True"
      ]
     },
     "execution_count": 34,
     "metadata": {},
     "output_type": "execute_result"
    }
   ],
   "source": [
    "# less than a<b\n",
    "operator.lt(a,b)"
   ]
  },
  {
   "cell_type": "code",
   "execution_count": 35,
   "id": "7fab95cd",
   "metadata": {},
   "outputs": [
    {
     "data": {
      "text/plain": [
       "True"
      ]
     },
     "execution_count": 35,
     "metadata": {},
     "output_type": "execute_result"
    }
   ],
   "source": [
    "# less than or equals to a<=b\n",
    "operator.le(a,b)"
   ]
  },
  {
   "cell_type": "code",
   "execution_count": 36,
   "id": "9421a695",
   "metadata": {},
   "outputs": [
    {
     "data": {
      "text/plain": [
       "False"
      ]
     },
     "execution_count": 36,
     "metadata": {},
     "output_type": "execute_result"
    }
   ],
   "source": [
    "# greater than a>b\n",
    "operator.gt(a,b)"
   ]
  },
  {
   "cell_type": "code",
   "execution_count": 37,
   "id": "d51bdf80",
   "metadata": {},
   "outputs": [
    {
     "data": {
      "text/plain": [
       "False"
      ]
     },
     "execution_count": 37,
     "metadata": {},
     "output_type": "execute_result"
    }
   ],
   "source": [
    "# greater than or equals to a<=b\n",
    "operator.ge(a,b)"
   ]
  },
  {
   "cell_type": "code",
   "execution_count": 38,
   "id": "6d27bb0b",
   "metadata": {},
   "outputs": [
    {
     "data": {
      "text/plain": [
       "False"
      ]
     },
     "execution_count": 38,
     "metadata": {},
     "output_type": "execute_result"
    }
   ],
   "source": [
    "# equals a==b\n",
    "\n",
    "operator.eq(a,b)"
   ]
  },
  {
   "cell_type": "code",
   "execution_count": 39,
   "id": "1c65b8c8",
   "metadata": {},
   "outputs": [
    {
     "data": {
      "text/plain": [
       "True"
      ]
     },
     "execution_count": 39,
     "metadata": {},
     "output_type": "execute_result"
    }
   ],
   "source": [
    "# not equals a!=b\n",
    "\n",
    "operator.ne(a,b)"
   ]
  },
  {
   "cell_type": "code",
   "execution_count": null,
   "id": "8f250499",
   "metadata": {},
   "outputs": [],
   "source": []
  },
  {
   "cell_type": "code",
   "execution_count": null,
   "id": "9438d407",
   "metadata": {},
   "outputs": [],
   "source": []
  }
 ],
 "metadata": {
  "kernelspec": {
   "display_name": "Python 3 (ipykernel)",
   "language": "python",
   "name": "python3"
  },
  "language_info": {
   "codemirror_mode": {
    "name": "ipython",
    "version": 3
   },
   "file_extension": ".py",
   "mimetype": "text/x-python",
   "name": "python",
   "nbconvert_exporter": "python",
   "pygments_lexer": "ipython3",
   "version": "3.9.7"
  },
  "varInspector": {
   "cols": {
    "lenName": 16,
    "lenType": 16,
    "lenVar": 40
   },
   "kernels_config": {
    "python": {
     "delete_cmd_postfix": "",
     "delete_cmd_prefix": "del ",
     "library": "var_list.py",
     "varRefreshCmd": "print(var_dic_list())"
    },
    "r": {
     "delete_cmd_postfix": ") ",
     "delete_cmd_prefix": "rm(",
     "library": "var_list.r",
     "varRefreshCmd": "cat(var_dic_list()) "
    }
   },
   "types_to_exclude": [
    "module",
    "function",
    "builtin_function_or_method",
    "instance",
    "_Feature"
   ],
   "window_display": false
  }
 },
 "nbformat": 4,
 "nbformat_minor": 5
}
